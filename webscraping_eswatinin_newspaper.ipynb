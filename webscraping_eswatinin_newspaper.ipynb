{
 "cells": [
  {
   "cell_type": "markdown",
   "metadata": {},
   "source": [
    "# Webscraping a Newspaper and Data Cleaning Using Python"
   ]
  },
  {
   "cell_type": "markdown",
   "metadata": {},
   "source": [
    "Reading newspaper headlines, especially stories from my home country of ESwatini or Swaziland is something I do on a daily basis. It helps me keep in touch with what is going in the country and this comes in handy especially for me since I live in the USA. In this article, we will scrape newspaper headlines using a few lines of Python code. We will also perform data cleaning and formatting the data into a dataframe which is easier to read.\n",
    "\n",
    "This article was written on 3/13/2020"
   ]
  },
  {
   "cell_type": "markdown",
   "metadata": {},
   "source": [
    "We start by importing the necessary libraries. We will use the libraries of BeautifulSoup and requests"
   ]
  },
  {
   "cell_type": "code",
   "execution_count": 1,
   "metadata": {},
   "outputs": [],
   "source": [
    "import pandas as pd\n",
    "import requests\n",
    "from bs4 import BeautifulSoup"
   ]
  },
  {
   "cell_type": "markdown",
   "metadata": {},
   "source": [
    "We start by making a webpage request to extract its entire contents"
   ]
  },
  {
   "cell_type": "code",
   "execution_count": 2,
   "metadata": {},
   "outputs": [],
   "source": [
    "url = 'http://times.co.sz'\n",
    "response = requests.get(url)"
   ]
  },
  {
   "cell_type": "markdown",
   "metadata": {},
   "source": [
    "We then use the BeautifulSoup library to parse the html. We store this in a variable we name 'soup'. You can name it anything you like.\n",
    "\n",
    "Python's 'html.parser' parses the html data the same way a web browser does."
   ]
  },
  {
   "cell_type": "code",
   "execution_count": 3,
   "metadata": {},
   "outputs": [],
   "source": [
    "soup = BeautifulSoup(response.text, 'html.parser')"
   ]
  },
  {
   "attachments": {
    "image.png": {
     "image/png": "[encoded data removed]"
    }
   },
   "cell_type": "markdown",
   "metadata": {},
   "source": [
    "Next we go to the webpage, and right click on a story's summary and click 'Inspect'. This brings up the html of the page.\n",
    "In the example below, we see that the interesting story is contained in the 'span' tag and 'summary' class\n",
    "\n",
    "![image.png](attachment:image.png)"
   ]
  },
  {
   "cell_type": "markdown",
   "metadata": {},
   "source": [
    "We use the find_all function to hone in on the tag and class of interest to help us grab the information we want.\n",
    "This returns a BeautifulSoup element which is a subclass of a list and printing the first 2 summary stories shows the stories together with the html elements"
   ]
  },
  {
   "cell_type": "code",
   "execution_count": 4,
   "metadata": {},
   "outputs": [
    {
     "name": "stdout",
     "output_type": "stream",
     "text": [
      "<class 'bs4.element.ResultSet'>\n",
      "[<span class=\"summary\">MBABANE – There are calls for government to consider banning foreign nationals from coming into the country and shut down the ports of entry to</span>, <span class=\"summary\">MBABANE – Don’t touch pension benefits except where that judgment is in respect of maintenance!\r\n",
      "The Supreme Court has declared that pension benefits of public officers</span>]\n"
     ]
    }
   ],
   "source": [
    "news_summary = soup.find_all('span', class_='summary')\n",
    "print(type(news_summary))\n",
    "print(news_summary[:2])"
   ]
  },
  {
   "cell_type": "markdown",
   "metadata": {},
   "source": [
    "We use .text method? to extract the text without the html and append that to a list. As shown below, the first 2 news summaries are now printed out without the html, which is very nice"
   ]
  },
  {
   "cell_type": "code",
   "execution_count": 5,
   "metadata": {},
   "outputs": [
    {
     "name": "stdout",
     "output_type": "stream",
     "text": [
      "['MBABANE – There are calls for government to consider banning foreign nationals from coming into the country and shut down the ports of entry to', 'MBABANE – Don’t touch pension benefits except where that judgment is in respect of maintenance!\\r\\nThe Supreme Court has declared that pension benefits of public officers']\n"
     ]
    }
   ],
   "source": [
    "news = []\n",
    "\n",
    "for content in news_summary:\n",
    "    news.append(content.text)\n",
    "    \n",
    "print(news[:2])"
   ]
  },
  {
   "attachments": {
    "image.png": {
     "image/png": "[encoded data removed]"
    }
   },
   "cell_type": "markdown",
   "metadata": {},
   "source": [
    "In addition, we want to print out the full article hyperlinks so that we can copy and paste them into a web browser to read the full contents of a story we find interesting.\n",
    "\n",
    "Again, we go to the webpage and right click on the 'Full Story' hyperlink to view the html.\n",
    "We see that the full story is contained in a 'div' tag and 'article_link' class.\n",
    "\n",
    "![image.png](attachment:image.png)"
   ]
  },
  {
   "cell_type": "code",
   "execution_count": 6,
   "metadata": {},
   "outputs": [
    {
     "name": "stdout",
     "output_type": "stream",
     "text": [
      "[<div class=\"article_link\">\n",
      "<a href=\"news/127478-calls-to-ban-foreign-nationals-entry-points-shutdown.html\">  Full story </a>\n",
      "</div>, <div class=\"article_link\">\n",
      "<a href=\"news/127477-appeal-to-withhold-head-teacher%E2%80%99s-pension-dismissed.html\">  Full story </a>\n",
      "</div>]\n"
     ]
    }
   ],
   "source": [
    "article_link = soup.find_all('div', class_='article_link')\n",
    "print(article_link[:2])"
   ]
  },
  {
   "cell_type": "markdown",
   "metadata": {},
   "source": [
    "We loop through the hyperlinks and use a['href'] to extract just the url for the full story"
   ]
  },
  {
   "cell_type": "code",
   "execution_count": 7,
   "metadata": {
    "scrolled": true
   },
   "outputs": [
    {
     "name": "stdout",
     "output_type": "stream",
     "text": [
      "['news/127478-calls-to-ban-foreign-nationals-entry-points-shutdown.html', 'news/127477-appeal-to-withhold-head-teacher%E2%80%99s-pension-dismissed.html']\n"
     ]
    }
   ],
   "source": [
    "links = []\n",
    "for hyperlink in article_link:\n",
    "    links.append(hyperlink.a['href'])\n",
    "\n",
    "print(links[:2])"
   ]
  },
  {
   "cell_type": "markdown",
   "metadata": {},
   "source": [
    "As you can see if you copy and paste the urls above, they won't work. Clicking on the full story indicates that the urls are missing the following portion \"http://www.times.co.sz/\"\n",
    "\n",
    "We need to append that portion for them to work. We loop throught the links and append the missing string and voila, we now have the full working urls for the full stories"
   ]
  },
  {
   "cell_type": "code",
   "execution_count": 8,
   "metadata": {},
   "outputs": [
    {
     "name": "stdout",
     "output_type": "stream",
     "text": [
      "['http://www.times.co.sz/news/127478-calls-to-ban-foreign-nationals-entry-points-shutdown.html', 'http://www.times.co.sz/news/127477-appeal-to-withhold-head-teacher%E2%80%99s-pension-dismissed.html']\n"
     ]
    }
   ],
   "source": [
    "links_2 = []\n",
    "url_add = 'http://www.times.co.sz/'\n",
    "\n",
    "for e in links:\n",
    "    links_2.append(url_add + e)\n",
    "\n",
    "print(links_2[:2])"
   ]
  },
  {
   "cell_type": "markdown",
   "metadata": {},
   "source": [
    "Lastly we combine the 2 lists in a dataframe to make it easier to read. We call this new dataframe 'news_dataframe'"
   ]
  },
  {
   "cell_type": "code",
   "execution_count": 9,
   "metadata": {},
   "outputs": [],
   "source": [
    "news_dataframe = pd.DataFrame(\n",
    "    {'NEWS SUMMARY': news,\n",
    "     'URL': links_2\n",
    "    })"
   ]
  },
  {
   "cell_type": "markdown",
   "metadata": {},
   "source": [
    "We print out the dataframe and see the summary news together with the urls which can be copied and pasted on a web browser to explore full stories of interest"
   ]
  },
  {
   "cell_type": "code",
   "execution_count": 10,
   "metadata": {},
   "outputs": [
    {
     "name": "stdout",
     "output_type": "stream",
     "text": [
      "<class 'pandas.core.frame.DataFrame'>\n"
     ]
    }
   ],
   "source": [
    "print(type(news_dataframe))"
   ]
  },
  {
   "cell_type": "code",
   "execution_count": 11,
   "metadata": {
    "scrolled": true
   },
   "outputs": [
    {
     "data": {
      "text/html": [
       "<div>\n",
       "<style scoped>\n",
       "    .dataframe tbody tr th:only-of-type {\n",
       "        vertical-align: middle;\n",
       "    }\n",
       "\n",
       "    .dataframe tbody tr th {\n",
       "        vertical-align: top;\n",
       "    }\n",
       "\n",
       "    .dataframe thead th {\n",
       "        text-align: right;\n",
       "    }\n",
       "</style>\n",
       "<table border=\"1\" class=\"dataframe\">\n",
       "  <thead>\n",
       "    <tr style=\"text-align: right;\">\n",
       "      <th></th>\n",
       "      <th>NEWS SUMMARY</th>\n",
       "      <th>URL</th>\n",
       "    </tr>\n",
       "  </thead>\n",
       "  <tbody>\n",
       "    <tr>\n",
       "      <th>0</th>\n",
       "      <td>MBABANE – There are calls for government to co...</td>\n",
       "      <td>http://www.times.co.sz/news/127478-calls-to-ba...</td>\n",
       "    </tr>\n",
       "    <tr>\n",
       "      <th>1</th>\n",
       "      <td>MBABANE – Don’t touch pension benefits except ...</td>\n",
       "      <td>http://www.times.co.sz/news/127477-appeal-to-w...</td>\n",
       "    </tr>\n",
       "    <tr>\n",
       "      <th>2</th>\n",
       "      <td>LOBAMBA – There is a need to check believers w...</td>\n",
       "      <td>http://www.times.co.sz/news/127476-easters-%E2...</td>\n",
       "    </tr>\n",
       "    <tr>\n",
       "      <th>3</th>\n",
       "      <td>\\n\\t\\t\\t\\tMBABANE – There are calls for govern...</td>\n",
       "      <td>http://www.times.co.sz/news/127478-calls-to-ba...</td>\n",
       "    </tr>\n",
       "    <tr>\n",
       "      <th>4</th>\n",
       "      <td>\\n\\t\\t\\t\\tTHE fragile economy of Eswatini and ...</td>\n",
       "      <td>http://www.times.co.sz/just-thinking/127463-pu...</td>\n",
       "    </tr>\n",
       "  </tbody>\n",
       "</table>\n",
       "</div>"
      ],
      "text/plain": [
       "                                        NEWS SUMMARY  \\\n",
       "0  MBABANE – There are calls for government to co...   \n",
       "1  MBABANE – Don’t touch pension benefits except ...   \n",
       "2  LOBAMBA – There is a need to check believers w...   \n",
       "3  \\n\\t\\t\\t\\tMBABANE – There are calls for govern...   \n",
       "4  \\n\\t\\t\\t\\tTHE fragile economy of Eswatini and ...   \n",
       "\n",
       "                                                 URL  \n",
       "0  http://www.times.co.sz/news/127478-calls-to-ba...  \n",
       "1  http://www.times.co.sz/news/127477-appeal-to-w...  \n",
       "2  http://www.times.co.sz/news/127476-easters-%E2...  \n",
       "3  http://www.times.co.sz/news/127478-calls-to-ba...  \n",
       "4  http://www.times.co.sz/just-thinking/127463-pu...  "
      ]
     },
     "execution_count": 11,
     "metadata": {},
     "output_type": "execute_result"
    }
   ],
   "source": [
    "news_dataframe.head()"
   ]
  },
  {
   "cell_type": "markdown",
   "metadata": {},
   "source": [
    "As seen above, we cannot see the full stories and urls. We will use .values method to print out the full contents"
   ]
  },
  {
   "cell_type": "code",
   "execution_count": 12,
   "metadata": {},
   "outputs": [
    {
     "name": "stdout",
     "output_type": "stream",
     "text": [
      "[['MBABANE – There are calls for government to consider banning foreign nationals from coming into the country and shut down the ports of entry to'\n",
      "  'http://www.times.co.sz/news/127478-calls-to-ban-foreign-nationals-entry-points-shutdown.html']\n",
      " ['MBABANE – Don’t touch pension benefits except where that judgment is in respect of maintenance!\\r\\nThe Supreme Court has declared that pension benefits of public officers'\n",
      "  'http://www.times.co.sz/news/127477-appeal-to-withhold-head-teacher%E2%80%99s-pension-dismissed.html']\n",
      " ['LOBAMBA – There is a need to check believers who will attend Easter services at Somhlolo for the coronavirus. This was a submission made by'\n",
      "  'http://www.times.co.sz/news/127476-easters-%E2%80%98test-christians-at-somhlolo%E2%80%99.html']\n",
      " ['\\n\\t\\t\\t\\tMBABANE – There are calls for government to consider banning foreign nationals from coming into the country and shut down the ports of entry to\\n\\t\\t\\t'\n",
      "  'http://www.times.co.sz/news/127478-calls-to-ban-foreign-nationals-entry-points-shutdown.html']\n",
      " ['\\n\\t\\t\\t\\tTHE fragile economy of Eswatini and the resilience of emaSwati are about to be tested by yet another crisis; the coronavirus, dubbed Covid-19.\\r\\nThis virus is\\n\\t\\t\\t'\n",
      "  'http://www.times.co.sz/just-thinking/127463-put-to-the-test.html']\n",
      " ['\\n\\t\\t\\t\\tMBABANE – Eswatini’s gross reserves remain below the satisfactory three months’ worth of imports cover.\\r\\nThis follows the 2.4 per cent decline recorded last month. According\\n\\t\\t\\t'\n",
      "  'http://www.times.co.sz/business/127468-eswatini-gross-reserves-down-2-4.html']\n",
      " ['\\n\\t\\t\\t\\t“PRESSURE pushing down on me, pressure pushing down on you, no man asks for under pressure, that burns a building down, splits a family in\\n\\t\\t\\t'\n",
      "  'http://www.times.co.sz/feature/127464-under-pressure.html']\n",
      " ['\\n\\t\\t\\t\\tMBABANE – In the middle of the hysteria centred on the coronavirus outbreak which has spread worldwide some people are calling for the postponement of\\n\\t\\t\\t'\n",
      "  'http://www.times.co.sz/entertainment/127469-public-%E2%80%98concerned%E2%80%99over-bushfire-2020.html']\n",
      " ['\\n\\t\\t\\t\\tMBABANE – Green Mamba’s coach Caleb Ngwenya has collected E240 000 in earnings after helping the Correctional Services outfit win both the Ingwenyama Cup and\\n\\t\\t\\t'\n",
      "  'http://www.times.co.sz/sports/127474-caleb-e240-000-richer.html']\n",
      " ['\\n\\t\\t\\t\\tSir,Thank you for allowing me to voice and echo the deep meaning of belittled yet vital words of encouragement to Eswatini citizens. It has reached\\n\\t\\t\\t'\n",
      "  'http://www.times.co.sz/letters/127466-encouragement-to-eswatini-citizens.html']\n",
      " ['MBABANE – There are calls for government to consider banning foreign nationals from coming into the country and shut down the ports of entry to'\n",
      "  'http://www.times.co.sz/news/127478-calls-to-ban-foreign-nationals-entry-points-shutdown.html']\n",
      " ['MBABANE – Don’t touch pension benefits except where that judgment is in respect of maintenance!\\r\\nThe Supreme Court has declared that pension benefits of public officers'\n",
      "  'http://www.times.co.sz/news/127477-appeal-to-withhold-head-teacher%E2%80%99s-pension-dismissed.html']\n",
      " ['LOBAMBA – There is a need to check believers who will attend Easter services at Somhlolo for the coronavirus. This was a submission made by'\n",
      "  'http://www.times.co.sz/news/127476-easters-%E2%80%98test-christians-at-somhlolo%E2%80%99.html']\n",
      " ['MATSAPHA – Finally, the suspended ESWACAA Director of Marketing and Communications, Sabelo Dlamini, has tendered his official plea to the SODV charge he is facing.\\r\\nDlamini'\n",
      "  'http://www.times.co.sz/news/127475-accuser%E2%80%99s-statements-clash-%E2%80%93-eswacaa%E2%80%99s-sabelo.html']\n",
      " ['MBABANE – Green Mamba’s coach Caleb Ngwenya has collected E240 000 in earnings after helping the Correctional Services outfit win both the Ingwenyama Cup and'\n",
      "  'http://www.times.co.sz/sports/127474-caleb-e240-000-richer.html']\n",
      " ['MBABANE – The African Union Sports Council Region 5 advised all its member States of its decision to suspend all its activities scheduled for between'\n",
      "  'http://www.times.co.sz/sports/127473-ausc-region-5-suspends-all-activities.html']\n",
      " ['MBABANE – The EswatiniBank has dressed up the quarterfinalists of the 17th edition of the annual sponsored tournament.\\r\\nThe teams in defending champions Young Buffaloes, Mbabane'\n",
      "  'http://www.times.co.sz/sports/127472-eswatinibank-dresses-quarterfinalists.html']\n",
      " ['MBABANE – MTN Eswatini CEO Wandile Mtshali will be part of the 68 golfers who will play in the March edition of the MTN Monthly'\n",
      "  'http://www.times.co.sz/sports/127471-mtn-ceo-for-monthly-masters.html']\n",
      " ['MBABANE – Prevention is better than cure. The reality of the matter is that coronavirus is not a myth and we all have to be'\n",
      "  'http://www.times.co.sz/sports/127470-active-matrix-gym-coronavirus-cognisant.html']\n",
      " ['MBABANE – In the middle of the hysteria centred on the coronavirus outbreak which has spread worldwide some people are calling for the postponement of'\n",
      "  'http://www.times.co.sz/entertainment/127469-public-%E2%80%98concerned%E2%80%99over-bushfire-2020.html']\n",
      " ['MBABANE – Eswatini’s gross reserves remain below the satisfactory three months’ worth of imports cover.\\r\\nThis follows the 2.4 per cent decline recorded last month. According'\n",
      "  'http://www.times.co.sz/business/127468-eswatini-gross-reserves-down-2-4.html']\n",
      " ['\\xa0MBABANE – Government has run out of trading licence certificate papers in two regions.\\r\\nThis is per a correspondence from the Ministry of Commerce, Industry and'\n",
      "  'http://www.times.co.sz/business/127467-trading-licence-certificates-shortage.html']\n",
      " ['Sir,Thank you for allowing me to voice and echo the deep meaning of belittled yet vital words of encouragement to Eswatini citizens. It has reached'\n",
      "  'http://www.times.co.sz/letters/127466-encouragement-to-eswatini-citizens.html']\n",
      " ['Sir,Hey! I don’t care who you are ,what race, what gender ,I don’t care about any of that but what I do know is that'\n",
      "  'http://www.times.co.sz/letters/127465-you-are-more-than-capable.html']\n",
      " ['“PRESSURE pushing down on me, pressure pushing down on you, no man asks for under pressure, that burns a building down, splits a family in'\n",
      "  'http://www.times.co.sz/feature/127464-under-pressure.html']]\n"
     ]
    }
   ],
   "source": [
    "print(news_dataframe.values)"
   ]
  },
  {
   "cell_type": "markdown",
   "metadata": {},
   "source": [
    "# CONCLUSION\n",
    "\n",
    "It would be great if the urls can be made clickable. That would save time and avoid copy and paste. Please leave your comments or share your code if you know how this can be accomplished.\n",
    "\n",
    "Enjoy!"
   ]
  }
 ],
 "metadata": {
  "kernelspec": {
   "display_name": "Python 3",
   "language": "python",
   "name": "python3"
  },
  "language_info": {
   "codemirror_mode": {
    "name": "ipython",
    "version": 3
   },
   "file_extension": ".py",
   "mimetype": "text/x-python",
   "name": "python",
   "nbconvert_exporter": "python",
   "pygments_lexer": "ipython3",
   "version": "3.6.8"
  }
 },
 "nbformat": 4,
 "nbformat_minor": 2
}
